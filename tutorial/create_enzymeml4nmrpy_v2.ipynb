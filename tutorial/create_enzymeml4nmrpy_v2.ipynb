{
 "cells": [
  {
   "cell_type": "markdown",
   "id": "a9f5b6da",
   "metadata": {},
   "source": [
    "<div>\n",
    "<img src=\"../img/EnzymeML.png\" height=\"50\"/>\n",
    "</div>\n",
    "\n",
    "<div>\n",
    "<img src=\"../img/RDM_course_2024_alpha_crop.png\" style=\"float: right\" height=\"150\"/>\n",
    "</div>\n",
    "\n",
    "# **Create an EnzymeML document** \n",
    "## For later use in NMRpy\n",
    "\n",
    "> created:  2023-11-01  \n",
    "> modified: 2024-09-24"
   ]
  },
  {
   "cell_type": "markdown",
   "id": "ec12c070",
   "metadata": {},
   "source": [
    "### *Notebook setup* <a class=\"anchor\" name=\"setup\"></a>"
   ]
  },
  {
   "cell_type": "code",
   "execution_count": null,
   "id": "3f9f4927",
   "metadata": {},
   "outputs": [],
   "source": [
    "import sys\n",
    "import subprocess\n",
    "import shutil\n",
    "import importlib\n",
    "\n",
    "def install_and_import(package):\n",
    "    try:\n",
    "        importlib.import_module(package)\n",
    "        print(f\"{package} is already installed\")\n",
    "    except ImportError:\n",
    "        print(f\"Installing {package}\")\n",
    "        %pip install {package}\n",
    "\n",
    "# install git via conda if not installed\n",
    "if not shutil.which(\"git\"):\n",
    "    print(\"Installing git via conda\")\n",
    "    subprocess.run([\"conda\", \"install\", \"-y\", \"git\"])\n",
    "    if not shutil.which(\"git\"):\n",
    "        print(\"git is not installed\")\n",
    "        sys.exit(1)\n",
    "print(\"git is installed\")\n",
    "\n",
    "# install required packages\n",
    "install_and_import(\"rich\")\n",
    "install_and_import(\"pyenzyme\")\n",
    "\n",
    "print(\"🏁 All set! Restart the Notebook once and you are ready to go.\")"
   ]
  },
  {
   "cell_type": "code",
   "execution_count": null,
   "id": "33d3fdcd",
   "metadata": {},
   "outputs": [],
   "source": [
    "from datetime import datetime\n",
    "\n",
    "import rich\n",
    "\n",
    "import pyenzyme as pe\n",
    "import pyenzyme.equations as peq\n",
    "\n",
    "def print_metadata(data_model) -> None:\n",
    "    rich.print(f\"Current metadata:\\n{data_model.model_dump_json(indent=4)}\")"
   ]
  },
  {
   "cell_type": "markdown",
   "id": "a58a8104",
   "metadata": {},
   "source": [
    "---\n",
    "\n",
    "### **Table of Contents** <a class=\"anchor\" name=\"table_of_contents\"></a>\n",
    "\n",
    "- [*Notebook setup*](#setup)\n",
    "- [Prepare EnzymeML document](#enzymeml)\n",
    "    - [Create an EnzymeML document for the NMR experiment](#i)\n",
    "    - [Create the NMR tube reaction vessel](#ii)\n",
    "    - [Create the various reactants and proteins for later reference](#iii)\n",
    "    - [Prepare the Measurement and MeasurementData objects for later use](#iv)\n",
    "    - [Create the phosphoglycerate mutase (PGM) reaction and add the respective reactions elements](#v)\n",
    "    - [Create the enolase (ENO) reaction and add the respective reaction elements](#vi)\n",
    "    - [Add the reactions to the EnzymeML document](#vii)\n",
    "- [Serialize the EnzymeML document for transfer to NMRpy](#serialization)\n",
    "    - [Write the JSON file](#write)\n",
    "    - [Inspect the created file](#inspect)\n",
    "- [Disclosure](#disclosure)"
   ]
  },
  {
   "cell_type": "markdown",
   "id": "1711ab31",
   "metadata": {},
   "source": [
    "---\n",
    "\n",
    "### **Prepare EnzymeML document** <a class=\"anchor\" name=\"enzymeml\"></a>"
   ]
  },
  {
   "cell_type": "markdown",
   "id": "31f6b477",
   "metadata": {},
   "source": [
    "#### Create an EnzymeML document for the NMR experiment <a class=\"anchor\" name=\"i\"></a>"
   ]
  },
  {
   "cell_type": "code",
   "execution_count": null,
   "id": "54226efb",
   "metadata": {},
   "outputs": [],
   "source": [
    "metadata = pe.EnzymeMLDocument(\n",
    "    name=\"Test dataset from phosphoglycerate mutase and enolase (PGM-ENO) catalysed conversion of PEP\",\n",
    "    created=datetime.now().isoformat(),\n",
    ")"
   ]
  },
  {
   "cell_type": "markdown",
   "id": "65f612a3",
   "metadata": {},
   "source": [
    "#### Create the NMR tube reaction vessel <a class=\"anchor\" name=\"ii\"></a>"
   ]
  },
  {
   "cell_type": "code",
   "execution_count": null,
   "id": "55df3fb7",
   "metadata": {},
   "outputs": [],
   "source": [
    "vessel = pe.Vessel(\n",
    "    id=\"nmr_tube_10\",\n",
    "    name=\"Young tube\",\n",
    "    volume=1.0,\n",
    "    unit=pe.units.predefined.ml,\n",
    ")\n",
    "metadata.vessels.append(vessel)\n",
    "metadata.modified=datetime.now().isoformat()"
   ]
  },
  {
   "cell_type": "markdown",
   "id": "e8339476",
   "metadata": {},
   "source": [
    "#### Create the various reactants and proteins for later reference <a class=\"anchor\" name=\"iii\"></a>"
   ]
  },
  {
   "cell_type": "code",
   "execution_count": null,
   "id": "326de152",
   "metadata": {},
   "outputs": [],
   "source": [
    "metadata.add_to_small_molecules(\n",
    "    id=\"chem01\",\n",
    "    name=\"3-Phosphoglycerate\",\n",
    "    vessel_id=\"nmr_tube_10\",\n",
    "    canonical_smiles=\"C(C(C(=O)O)O)OP(=O)(O)O\",\n",
    "    constant=False,\n",
    ")\n",
    "\n",
    "metadata.add_to_small_molecules(\n",
    "    id=\"chem02\",\n",
    "    name=\"2-Phosphoglycerate\",\n",
    "    vessel_id=\"nmr_tube_10\",\n",
    "    canonical_smiles=\"C(C(C(=O)O)OP(=O)(O)O)O\",\n",
    "    constant=False,\n",
    ")\n",
    "\n",
    "metadata.add_to_small_molecules(\n",
    "    id=\"chem03\",\n",
    "    name=\"Phosphoenolpyruvate\",\n",
    "    vessel_id=\"nmr_tube_10\",\n",
    "    canonical_smiles=\"CC(=O)C(=O)OP(=O)(O)O\",\n",
    "    constant=False,\n",
    ")\n",
    "\n",
    "metadata.add_to_small_molecules(\n",
    "    id=\"chem04\",\n",
    "    name=\"Phosphate\",\n",
    "    vessel_id=\"nmr_tube_10\",\n",
    "    canonical_smiles=\"[O-]P(=O)([O-])[O-]\",    \n",
    "    constant=False,\n",
    ")\n",
    "\n",
    "metadata.add_to_small_molecules(\n",
    "    id=\"chem05\",\n",
    "    name=\"Triethylphosphate (internal standard)\",\n",
    "    vessel_id=\"nmr_tube_10\",\n",
    "    canonical_smiles=\"CCOP(=O)(OCC)OCC\",    \n",
    "    constant=True,\n",
    ")\n",
    "\n",
    "metadata.add_to_proteins(\n",
    "    id=\"prot01\",\n",
    "    name=\"Total lysate protein\",\n",
    "    vessel_id=\"nmr_tube_10\",\n",
    "    sequence=\"UNKNOWN\",\n",
    "    constant=True,\n",
    ")"
   ]
  },
  {
   "cell_type": "markdown",
   "id": "b82893ae",
   "metadata": {},
   "source": [
    "#### Prepare the Measurement and MeasurementData objects for later use <a class=\"anchor\" name=\"iv\"></a>"
   ]
  },
  {
   "cell_type": "code",
   "execution_count": null,
   "id": "d252d2d0",
   "metadata": {},
   "outputs": [],
   "source": [
    "measurement = pe.Measurement(\n",
    "    id=\"meas01\",\n",
    "    name=\"Time-course 31P NMR spectra\",\n",
    "    ph=7.0,\n",
    "    temperature=298.15,\n",
    "    unit=pe.units.predefined.kelvin,\n",
    ")"
   ]
  },
  {
   "cell_type": "code",
   "execution_count": null,
   "id": "ab841f02",
   "metadata": {},
   "outputs": [],
   "source": [
    "for species_type in [\"small_molecules\", \"proteins\", \"complexes\"]:\n",
    "    for species in getattr(metadata, species_type):\n",
    "        measurement.add_to_species(\n",
    "            species_id=species.id,\n",
    "            init_conc=0.0,\n",
    "            data_type=pe.DataTypes.CONCENTRATION,\n",
    "            data_unit=pe.units.predefined.mM,\n",
    "            time_unit=pe.units.predefined.min,\n",
    "        )"
   ]
  },
  {
   "cell_type": "code",
   "execution_count": null,
   "id": "2ec10749",
   "metadata": {},
   "outputs": [],
   "source": [
    "concentrations = dict(\n",
    "    zip(\n",
    "        [\"chem01\", \"chem02\", \"chem03\", \"chem04\", \"chem05\", \"prot01\"],\n",
    "        [10.0, 0.0001, 0.0001, 0.0001, 1.0, 0.1418]\n",
    "    )\n",
    ")\n",
    "for conc in concentrations.items():\n",
    "    for species in measurement.species:\n",
    "        if species.species_id == conc[0]:\n",
    "            species.init_conc = conc[1]"
   ]
  },
  {
   "cell_type": "code",
   "execution_count": null,
   "id": "f803eb32",
   "metadata": {},
   "outputs": [],
   "source": [
    "metadata.measurements.append(measurement)"
   ]
  },
  {
   "cell_type": "markdown",
   "id": "7c2d7332",
   "metadata": {},
   "source": [
    "#### Create the phosphoglycerate mutase (PGM) reaction and add the respective reactions elements <a class=\"anchor\" name=\"v\"></a>"
   ]
  },
  {
   "cell_type": "code",
   "execution_count": null,
   "id": "4831584e",
   "metadata": {},
   "outputs": [],
   "source": [
    "pgm = peq.build_reaction(\n",
    "    scheme=\"chem01 -> chem02 + chem04\",\n",
    "    name=\"Dephosphorylation\",\n",
    "    modifiers=[\"prot01\"]\n",
    ")"
   ]
  },
  {
   "cell_type": "markdown",
   "id": "b11fd275",
   "metadata": {},
   "source": [
    "#### Create the enolase (ENO) reaction and add the respective reaction elements <a class=\"anchor\" name=\"vi\"></a>"
   ]
  },
  {
   "cell_type": "code",
   "execution_count": null,
   "id": "e082647b",
   "metadata": {},
   "outputs": [],
   "source": [
    "eno = peq.build_reaction(\n",
    "    scheme=\"chem02 -> chem03 + chem04\",\n",
    "    name=\"Glycolysis\",\n",
    "    modifiers=[\"prot01\"]\n",
    ")"
   ]
  },
  {
   "cell_type": "markdown",
   "id": "4b7d2504",
   "metadata": {},
   "source": [
    "#### Add the reactions to the EnzymeML document <a class=\"anchor\" name=\"vii\"></a>"
   ]
  },
  {
   "cell_type": "code",
   "execution_count": null,
   "id": "d18a08ea",
   "metadata": {},
   "outputs": [],
   "source": [
    "metadata.reactions += [pgm, eno]\n",
    "metadata.modified=datetime.now().isoformat()\n",
    "\n",
    "print_metadata(metadata)"
   ]
  },
  {
   "cell_type": "markdown",
   "id": "f45a70e9",
   "metadata": {},
   "source": [
    "---\n",
    "\n",
    "### **Serialize the EnzymeML document for transfer to NMRpy** <a class=\"anchor\" name=\"serialization\"></a>"
   ]
  },
  {
   "cell_type": "markdown",
   "id": "f70ee3ed",
   "metadata": {},
   "source": [
    "#### Write the JSON file <a class=\"anchor\" name=\"write\"></a>"
   ]
  },
  {
   "cell_type": "code",
   "execution_count": null,
   "id": "eab3fc32",
   "metadata": {},
   "outputs": [],
   "source": [
    "pe.write_enzymeml(doc=metadata, path=\"./data/pgm-eno.json\")"
   ]
  },
  {
   "cell_type": "markdown",
   "id": "e3101c28",
   "metadata": {},
   "source": [
    "#### Inspect the created file <a class=\"anchor\" name=\"inspect\"></a>"
   ]
  },
  {
   "cell_type": "code",
   "execution_count": null,
   "id": "c64f0774",
   "metadata": {},
   "outputs": [],
   "source": [
    "metadata = pe.load_enzymeml(path=\"./data/pgm-eno.json\")\n",
    "print_metadata(metadata)"
   ]
  },
  {
   "cell_type": "markdown",
   "id": "a4425184",
   "metadata": {},
   "source": [
    "---\n",
    "\n",
    "### **Disclosure** <a class=\"anchor\" name=\"disclosure\"></a>\n",
    "\n",
    "**Contributions**\n",
    "\n",
    "If you wish to contribute to or collaborate with EnzymeML, find us on our [EnzymeML GitHub](https://github.com/EnzymeML)!\n",
    "\n",
    "**MIT License**\n",
    "\n",
    "Copyright (c) 2024 EnzymeML\n",
    "\n",
    "Permission is hereby granted, free of charge, to any person obtaining a copy\n",
    "of this software and associated documentation files (the \"Software\"), to deal\n",
    "in the Software without restriction, including without limitation the rights\n",
    "to use, copy, modify, merge, publish, distribute, sublicense, and/or sell\n",
    "copies of the Software, and to permit persons to whom the Software is\n",
    "furnished to do so, subject to the following conditions:\n",
    "\n",
    "The above copyright notice and this permission notice shall be included in all\n",
    "copies or substantial portions of the Software.\n",
    "\n",
    "THE SOFTWARE IS PROVIDED \"AS IS\", WITHOUT WARRANTY OF ANY KIND, EXPRESS OR\n",
    "IMPLIED, INCLUDING BUT NOT LIMITED TO THE WARRANTIES OF MERCHANTABILITY,\n",
    "FITNESS FOR A PARTICULAR PURPOSE AND NONINFRINGEMENT. IN NO EVENT SHALL THE\n",
    "AUTHORS OR COPYRIGHT HOLDERS BE LIABLE FOR ANY CLAIM, DAMAGES OR OTHER\n",
    "LIABILITY, WHETHER IN AN ACTION OF CONTRACT, TORT OR OTHERWISE, ARISING FROM,\n",
    "OUT OF OR IN CONNECTION WITH THE SOFTWARE OR THE USE OR OTHER DEALINGS IN THE\n",
    "SOFTWARE."
   ]
  },
  {
   "cell_type": "markdown",
   "id": "1fbc3ba7",
   "metadata": {},
   "source": []
  }
 ],
 "metadata": {
  "kernelspec": {
   "display_name": "Python 3 (ipykernel)",
   "language": "python",
   "name": "python3"
  },
  "language_info": {
   "codemirror_mode": {
    "name": "ipython",
    "version": 3
   },
   "file_extension": ".py",
   "mimetype": "text/x-python",
   "name": "python",
   "nbconvert_exporter": "python",
   "pygments_lexer": "ipython3",
   "version": "3.11.9"
  }
 },
 "nbformat": 4,
 "nbformat_minor": 5
}
