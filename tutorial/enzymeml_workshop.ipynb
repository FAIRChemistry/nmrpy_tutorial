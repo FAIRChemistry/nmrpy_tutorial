{
 "cells": [
  {
   "cell_type": "markdown",
   "id": "3cf4de92",
   "metadata": {
    "slideshow": {
     "slide_type": "-"
    }
   },
   "source": [
    "<div>\n",
    "<img src=\"../img/EnzymeML.png\" height=\"50\"/>\n",
    "</div>\n",
    "\n",
    "<div>\n",
    "<img src=\"../img/RDM_course_2024_alpha_crop.png\" style=\"float: right\" height=\"150\"/>\n",
    "</div>\n",
    "\n",
    "# **FAIR processing of kinetic data from NMR**\n",
    "## EnzymeML workshop 2024-09-24\n",
    "\n",
    "> created:  2024-06-22  \n",
    "> modified: 2024-09-24  "
   ]
  },
  {
   "cell_type": "markdown",
   "id": "f04aa67a",
   "metadata": {
    "jp-MarkdownHeadingCollapsed": true
   },
   "source": [
    "### *Notebook setup* <a class=\"anchor\" name=\"setup\"></a>"
   ]
  },
  {
   "cell_type": "code",
   "execution_count": null,
   "id": "aa72e112",
   "metadata": {},
   "outputs": [],
   "source": [
    "\"\"\"ONLY RUN THIS CELL ONCE!\"\"\"\n",
    "\n",
    "import sys\n",
    "import subprocess\n",
    "import shutil\n",
    "import importlib\n",
    "\n",
    "def install_and_import(package):\n",
    "    try:\n",
    "        importlib.import_module(package)\n",
    "        print(f\"{package} is already installed\")\n",
    "    except ImportError:\n",
    "        print(f\"Installing {package}\")\n",
    "        %pip install {package}\n",
    "\n",
    "# install git via conda if not installed\n",
    "if not shutil.which(\"git\"):\n",
    "    print(\"Installing git via conda\")\n",
    "    subprocess.run([\"conda\", \"install\", \"-y\", \"git\"])\n",
    "    if not shutil.which(\"git\"):\n",
    "        print(\"git is not installed\")\n",
    "        sys.exit(1)\n",
    "print(\"git is installed\")\n",
    "\n",
    "# install NMRpy and other packages\n",
    "try:\n",
    "    import nmrpy\n",
    "    rint(\"NMRpy is already installed\")\n",
    "except ImportError:\n",
    "    print(\"Installing NMRpy...\")\n",
    "    %pip install git+https://github.com/NMRPy/nmrpy@adapt-to-pydantic-v2 --quiet\n",
    "\n",
    "install_and_import(\"matplotlib\")\n",
    "install_and_import(\"ipyfilechooser\")\n",
    "install_and_import(\"rich\")\n",
    "install_and_import(\"pyenzyme\")\n",
    "\n",
    "print(\"🏁 All set! Restart the Notebook once and you are ready to go.\")"
   ]
  },
  {
   "cell_type": "code",
   "execution_count": 1,
   "id": "7f0ffd38",
   "metadata": {},
   "outputs": [],
   "source": [
    "from datetime import datetime\n",
    "from pathlib import Path\n",
    "\n",
    "import matplotlib\n",
    "%matplotlib widget\n",
    "from matplotlib import pyplot as plt\n",
    "plt.ioff()\n",
    "from ipyfilechooser import FileChooser\n",
    "import rich\n",
    "\n",
    "import pyenzyme as pe\n",
    "import pyenzyme.equations as peq\n",
    "import nmrpy\n",
    "\n",
    "\n",
    "def print_metadata(data_model) -> None:\n",
    "    rich.print(f\"Current metadata:\\n{data_model.model_dump_json(indent=4)}\")"
   ]
  },
  {
   "cell_type": "markdown",
   "id": "aa04ba7b",
   "metadata": {
    "jp-MarkdownHeadingCollapsed": true
   },
   "source": [
    "---\n",
    "\n",
    "### **I. Provide experiment details** <a class=\"anchor\" name=\"i\"></a>"
   ]
  },
  {
   "cell_type": "markdown",
   "id": "26b2e4e4",
   "metadata": {},
   "source": [
    "EnzymeML document containing the details of the NMR experiment has been created beforehand. We can inspect the document to get the details of the experiment:"
   ]
  },
  {
   "cell_type": "code",
   "execution_count": null,
   "id": "2bebec1c",
   "metadata": {},
   "outputs": [],
   "source": [
    "metadata = pe.load_enzymeml(path=\"./data/pgm-eno.json\")\n",
    "print_metadata(metadata)"
   ]
  },
  {
   "cell_type": "markdown",
   "id": "50a588c8",
   "metadata": {},
   "source": [
    "---\n",
    "\n",
    "### **II. Process NMR data** <a class=\"anchor\" name=\"ii\"></a> "
   ]
  },
  {
   "cell_type": "markdown",
   "id": "738a943e",
   "metadata": {},
   "source": [
    "A detailed documentation can be found at [NMRpy documentation](https://nmrpy.readthedocs.io/en/latest/)."
   ]
  },
  {
   "cell_type": "markdown",
   "id": "f704e5b6",
   "metadata": {},
   "source": [
    "#### Load NMR data <a class=\"anchor\" name=\"load\"></a>"
   ]
  },
  {
   "cell_type": "markdown",
   "id": "e95f9577",
   "metadata": {},
   "source": [
    "For convenience, the unprocessed NMR data is loaded using the `ipyfilechooser` widget. Providing the file path directly to `nmrpy.data_objects.FidArray.from_path()` would also work."
   ]
  },
  {
   "cell_type": "code",
   "execution_count": null,
   "id": "61c136d7",
   "metadata": {},
   "outputs": [],
   "source": [
    "dc = FileChooser(Path.cwd())\n",
    "display(dc)"
   ]
  },
  {
   "cell_type": "code",
   "execution_count": null,
   "id": "db1166ba",
   "metadata": {},
   "outputs": [],
   "source": [
    "nmr = nmrpy.data_objects.FidArray.from_path(fid_path=dc.selected)"
   ]
  },
  {
   "cell_type": "markdown",
   "id": "2a0a0cce",
   "metadata": {},
   "source": [
    "#### Parse EnzymeML document"
   ]
  },
  {
   "cell_type": "markdown",
   "id": "b6f79b97",
   "metadata": {},
   "source": [
    "The same goes for the EnzymeML document containing the experiment details."
   ]
  },
  {
   "cell_type": "code",
   "execution_count": null,
   "id": "b06e9cc0",
   "metadata": {},
   "outputs": [],
   "source": [
    "mc = FileChooser(Path.cwd())\n",
    "display(mc)"
   ]
  },
  {
   "cell_type": "code",
   "execution_count": 6,
   "id": "c7972a66",
   "metadata": {},
   "outputs": [],
   "source": [
    "nmr.parse_enzymeml_document(path_to_enzymeml_document=mc.selected)"
   ]
  },
  {
   "cell_type": "markdown",
   "id": "000a4d95",
   "metadata": {},
   "source": [
    "We can inspect the EnzymeML document within NMRpy:"
   ]
  },
  {
   "cell_type": "code",
   "execution_count": null,
   "id": "7dcadaa4",
   "metadata": {},
   "outputs": [],
   "source": [
    "nmr.enzymeml_document"
   ]
  },
  {
   "cell_type": "markdown",
   "id": "259b04b7-5094-4419-98e8-3dd3d4355de3",
   "metadata": {},
   "source": [
    "#### Pre-process NMR spectra"
   ]
  },
  {
   "cell_type": "markdown",
   "id": "039331ee",
   "metadata": {},
   "source": [
    "Depending on the way the NMR data was acquired, it might be necessary to pre-process the data. This can include apodization, zero-filling, Fourier transformation, phase correction, baseline correction, etc. In this case, we start with the completely raw free induction decay (FID) data, but NMRpy can handle data in any stage of processing.  \n",
    "\n",
    "Using `nmr.fid<n>.plot_ppm()` we can inspect the spectrum of any FID in the dataset at any time."
   ]
  },
  {
   "cell_type": "code",
   "execution_count": null,
   "id": "aa6488d4",
   "metadata": {},
   "outputs": [],
   "source": [
    "nmr.fid04.plot_ppm()"
   ]
  },
  {
   "cell_type": "markdown",
   "id": "6abe420b",
   "metadata": {},
   "source": [
    "Apodisation with `emhz_fids()` uses a default value of 5 Hz."
   ]
  },
  {
   "cell_type": "code",
   "execution_count": null,
   "id": "01e5dc15",
   "metadata": {},
   "outputs": [],
   "source": [
    "nmr.emhz_fids()\n",
    "nmr.fid04.plot_ppm()"
   ]
  },
  {
   "cell_type": "markdown",
   "id": "f12310ef",
   "metadata": {},
   "source": [
    "Zero-fill:"
   ]
  },
  {
   "cell_type": "code",
   "execution_count": null,
   "id": "89c9a89b",
   "metadata": {},
   "outputs": [],
   "source": [
    "nmr.zf_fids()\n",
    "nmr.fid04.plot_ppm()"
   ]
  },
  {
   "cell_type": "markdown",
   "id": "f43ab564",
   "metadata": {},
   "source": [
    "Fourier-transform:"
   ]
  },
  {
   "cell_type": "code",
   "execution_count": null,
   "id": "d32c1d1e",
   "metadata": {},
   "outputs": [],
   "source": [
    "nmr.ft_fids()\n",
    "nmr.fid04.plot_ppm()"
   ]
  },
  {
   "cell_type": "markdown",
   "id": "fbb90077",
   "metadata": {},
   "source": [
    "We can also inspect the research data model of NMRpy at any time by accessing the `nmr.data_model` property."
   ]
  },
  {
   "cell_type": "code",
   "execution_count": null,
   "id": "f4f826af-69e1-4b1b-9597-72249b32785a",
   "metadata": {
    "scrolled": true
   },
   "outputs": [],
   "source": [
    "print(nmr.data_model)"
   ]
  },
  {
   "cell_type": "markdown",
   "id": "12c91d23",
   "metadata": {},
   "source": [
    "Phase-correction & removal of imaginary part:"
   ]
  },
  {
   "cell_type": "code",
   "execution_count": null,
   "id": "a3f9b7e3",
   "metadata": {},
   "outputs": [],
   "source": [
    "nmr.phase_correct_fids()\n",
    "nmr.real_fids()\n",
    "nmr.fid04.plot_ppm()"
   ]
  },
  {
   "cell_type": "markdown",
   "id": "eb402682",
   "metadata": {},
   "source": [
    "Peaks can be shifted in the spectrum. We can use the `nmr.calibrate()` method to calibrate the spectrum. In this case, the peak of the internal standard (Triethylphosphate) is known to be at 2.2 ppm, which we can adjust the spectrum to."
   ]
  },
  {
   "cell_type": "code",
   "execution_count": null,
   "id": "6673cc04",
   "metadata": {},
   "outputs": [],
   "source": [
    "nmr.calibrate() # Internal standard should be at 2.2 ppm"
   ]
  },
  {
   "cell_type": "markdown",
   "id": "0dbe356b",
   "metadata": {},
   "source": [
    "We can see how the data model changes with each processing step to reflect the current state:"
   ]
  },
  {
   "cell_type": "code",
   "execution_count": null,
   "id": "0e433ef6-7941-4ab3-acea-99ae6b6bbb0f",
   "metadata": {},
   "outputs": [],
   "source": [
    "print(nmr.data_model)"
   ]
  },
  {
   "cell_type": "markdown",
   "id": "a16e43ff",
   "metadata": {},
   "source": [
    "We have to pick the peaks to be able to calculate the integrals. We can use the `nmr.peakpicker()` method to do this manually. Alternatively, we can also provide a list of peaks directly."
   ]
  },
  {
   "cell_type": "code",
   "execution_count": null,
   "id": "92af2bd9",
   "metadata": {},
   "outputs": [],
   "source": [
    "nmr.peakpicker()"
   ]
  },
  {
   "cell_type": "code",
   "execution_count": 19,
   "id": "26e740bb",
   "metadata": {},
   "outputs": [],
   "source": [
    "peaks = [5.52, 4.66, 3.8, 2.08, 1.14]\n",
    "ranges = [[6,0.5]]\n",
    "\n",
    "for fid in nmr.get_fids():\n",
    "    fid.peaks = peaks\n",
    "    fid.ranges = ranges"
   ]
  },
  {
   "cell_type": "markdown",
   "id": "0e51c6e7",
   "metadata": {},
   "source": [
    "#### Assign peak identities based on EnzymeML species"
   ]
  },
  {
   "cell_type": "markdown",
   "id": "853ae46c",
   "metadata": {},
   "source": [
    "Using `nmr.assign_identities()` we can assign the peaks to the species in the EnzymeML document. Multiple peaks can be assigned to the same species."
   ]
  },
  {
   "cell_type": "code",
   "execution_count": null,
   "id": "958e7afe",
   "metadata": {},
   "outputs": [],
   "source": [
    "nmr.assign_identities()"
   ]
  },
  {
   "cell_type": "markdown",
   "id": "ce39609c",
   "metadata": {},
   "source": [
    "#### Plot deconvoluted spectrum for one or all FIDs"
   ]
  },
  {
   "cell_type": "markdown",
   "id": "6a2d023b",
   "metadata": {},
   "source": [
    "After normalizing and deconvoluting the spectra, we can plot the deconvoluted spectrum for one or all FIDs."
   ]
  },
  {
   "cell_type": "code",
   "execution_count": null,
   "id": "c311ab91",
   "metadata": {},
   "outputs": [],
   "source": [
    "nmr.norm_fids() \n",
    "nmr.deconv_fids()\n",
    "nmr.plot_deconv_array(upper_ppm=7, lower_ppm=0)"
   ]
  },
  {
   "cell_type": "code",
   "execution_count": null,
   "id": "93a25c9f",
   "metadata": {},
   "outputs": [],
   "source": [
    "nmr.fid04.plot_deconv(upper_ppm=7, lower_ppm=0)"
   ]
  },
  {
   "cell_type": "markdown",
   "id": "9be0131d",
   "metadata": {},
   "source": [
    "#### Calculate the concentration of each species"
   ]
  },
  {
   "cell_type": "markdown",
   "id": "0c4f8b64",
   "metadata": {},
   "source": [
    "Providing the information on the internal standard, as well as the necessary equation, we can calculate the concentration of each species, available via `nmr.concentrations`."
   ]
  },
  {
   "cell_type": "code",
   "execution_count": null,
   "id": "6535a2c7",
   "metadata": {},
   "outputs": [],
   "source": [
    "nmr.calculate_concentrations()"
   ]
  },
  {
   "cell_type": "code",
   "execution_count": null,
   "id": "cf1127a5",
   "metadata": {},
   "outputs": [],
   "source": [
    "nmr.concentrations"
   ]
  },
  {
   "cell_type": "markdown",
   "id": "6a80d54f",
   "metadata": {},
   "source": [
    "#### Apply the concentrations to the EnzymeML document and save it"
   ]
  },
  {
   "cell_type": "markdown",
   "id": "8ea6710a",
   "metadata": {},
   "source": [
    "We can now add the newly calculated concentrations to the EnzymeML document we provided earlier and save it."
   ]
  },
  {
   "cell_type": "code",
   "execution_count": null,
   "id": "352dfa1f",
   "metadata": {},
   "outputs": [],
   "source": [
    "enzymeml_doc = nmr.apply_to_enzymeml()\n",
    "print_metadata(enzymeml_doc)"
   ]
  },
  {
   "cell_type": "code",
   "execution_count": 26,
   "id": "0a99708c",
   "metadata": {},
   "outputs": [],
   "source": [
    "with open(\"./data/pgm-eno_with_concentrations.json\", \"w\") as f:\n",
    "    f.write(enzymeml_doc.model_dump_json(indent=4))"
   ]
  },
  {
   "cell_type": "markdown",
   "id": "795404f5",
   "metadata": {},
   "source": [
    "🎉 **Hooray! We have successfully processed and analyzed NMR data, all within the EnzymeML framework!** 🎉"
   ]
  },
  {
   "cell_type": "markdown",
   "id": "740ed0d5",
   "metadata": {},
   "source": [
    "---\n",
    "\n",
    "### **Disclosure** <a class=\"anchor\" name=\"disclosure\"></a>\n",
    "\n",
    "**Contributions**\n",
    "\n",
    "If you wish to contribute to or collaborate with EnzymeML, find us on our [EnzymeML GitHub](https://github.com/EnzymeML)!\n",
    "\n",
    "**MIT License**\n",
    "\n",
    "Copyright (c) 2024 EnzymeML\n",
    "\n",
    "Permission is hereby granted, free of charge, to any person obtaining a copy\n",
    "of this software and associated documentation files (the \"Software\"), to deal\n",
    "in the Software without restriction, including without limitation the rights\n",
    "to use, copy, modify, merge, publish, distribute, sublicense, and/or sell\n",
    "copies of the Software, and to permit persons to whom the Software is\n",
    "furnished to do so, subject to the following conditions:\n",
    "\n",
    "The above copyright notice and this permission notice shall be included in all\n",
    "copies or substantial portions of the Software.\n",
    "\n",
    "THE SOFTWARE IS PROVIDED \"AS IS\", WITHOUT WARRANTY OF ANY KIND, EXPRESS OR\n",
    "IMPLIED, INCLUDING BUT NOT LIMITED TO THE WARRANTIES OF MERCHANTABILITY,\n",
    "FITNESS FOR A PARTICULAR PURPOSE AND NONINFRINGEMENT. IN NO EVENT SHALL THE\n",
    "AUTHORS OR COPYRIGHT HOLDERS BE LIABLE FOR ANY CLAIM, DAMAGES OR OTHER\n",
    "LIABILITY, WHETHER IN AN ACTION OF CONTRACT, TORT OR OTHERWISE, ARISING FROM,\n",
    "OUT OF OR IN CONNECTION WITH THE SOFTWARE OR THE USE OR OTHER DEALINGS IN THE\n",
    "SOFTWARE."
   ]
  },
  {
   "cell_type": "markdown",
   "id": "bf929e70",
   "metadata": {},
   "source": []
  }
 ],
 "metadata": {
  "kernelspec": {
   "display_name": "Python 3 (ipykernel)",
   "language": "python",
   "name": "python3"
  },
  "language_info": {
   "codemirror_mode": {
    "name": "ipython",
    "version": 3
   },
   "file_extension": ".py",
   "mimetype": "text/x-python",
   "name": "python",
   "nbconvert_exporter": "python",
   "pygments_lexer": "ipython3",
   "version": "3.11.9"
  }
 },
 "nbformat": 4,
 "nbformat_minor": 5
}
